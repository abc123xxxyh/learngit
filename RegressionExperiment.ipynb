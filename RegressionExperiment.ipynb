{
 "cells": [
  {
   "cell_type": "code",
   "execution_count": 11,
   "metadata": {},
   "outputs": [
    {
     "name": "stdout",
     "output_type": "stream",
     "text": [
      "验证集上的最小loss： 10.3666312135\n"
     ]
    },
    {
     "data": {
      "image/png": "[encoded data removed]",
      "text/plain": [
       "<matplotlib.figure.Figure at 0xbd639b0>"
      ]
     },
     "metadata": {},
     "output_type": "display_data"
    }
   ],
   "source": [
    "import numpy as np\n",
    "import matplotlib.pyplot as plt\n",
    "from sklearn.datasets import load_svmlight_file\n",
    "from sklearn.model_selection import train_test_split \n",
    "x,y = load_svmlight_file(\"F:/housing_scale.txt\")\n",
    "x=x.toarray()\n",
    "m, n = np.shape(x)\n",
    "a=np.ones(m)\n",
    "X=np.column_stack((x,a))\n",
    "X_train, X_test, y_train, y_test = train_test_split(X,y,test_size=0.33,random_state=42)\n",
    "m_train,n_train= np.shape(X_train)\n",
    "m_test,n_test= np.shape(X_test)\n",
    "w = np.zeros(n+1)\n",
    "W=w.transpose()\n",
    "alpha = 0.41\n",
    "maxIteration = 1000\n",
    "Iteration=range(0,maxIteration)\n",
    "Ltrain=[]\n",
    "Lvalidation=[]\n",
    "for i in range(0, maxIteration):\n",
    "    y_predict1 = np.dot(W.transpose(),X_train.transpose())\n",
    "    loss_train = y_predict1-y_train\n",
    "    Ltrain.append(np.dot(loss_train,loss_train.transpose())/(2*m_train))\n",
    "    y_predict2=np.dot(W.transpose(),X_test.transpose())\n",
    "    loss_test= y_predict2-y_test\n",
    "    Lvalidation.append(np.dot(loss_test.transpose(),loss_test)/(2*m_test))\n",
    "    gradient = np.dot(X_train.transpose(), loss_train.transpose()) /m_train\n",
    "    W = W - alpha * gradient\n",
    "plt.plot(Iteration,Ltrain,'r',label='Ltrain') \n",
    "plt.plot(Iteration, Lvalidation,'b',label=' Lvalidation') \n",
    "print(\"验证集上的最小loss：\",min(Lvalidation))\n",
    "plt.show()\n"
   ]
  }
 ],
 "metadata": {
  "kernelspec": {
   "display_name": "Python 3",
   "language": "python",
   "name": "python3"
  },
  "language_info": {
   "codemirror_mode": {
    "name": "ipython",
    "version": 3
   },
   "file_extension": ".py",
   "mimetype": "text/x-python",
   "name": "python",
   "nbconvert_exporter": "python",
   "pygments_lexer": "ipython3",
   "version": "3.6.3"
  }
 },
 "nbformat": 4,
 "nbformat_minor": 2
}
