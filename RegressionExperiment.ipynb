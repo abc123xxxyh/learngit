# -*- coding: utf-8 -*-
"""
Created on Thu Dec  7 21:22:36 2017

@author: Administrator
"""

import numpy as np
import matplotlib.pyplot as plt
from sklearn.datasets import load_svmlight_file
from sklearn.cross_validation import train_test_split 
x,y = load_svmlight_file("F:/housing_scale.txt")
x=x.toarray()
m, n = np.shape(x)
a=np.ones(m)
X=np.column_stack((x,a))
X_train, X_test, y_train, y_test = train_test_split(X,y,test_size=0.33,random_state=42)
m_train,n_train= np.shape(X_train)
m_test,n_test= np.shape(X_test)
w = np.zeros(n+1)
W=w.transpose()
alpha = 0.1
maxIteration = 100
Iteration=range(0,maxIteration)
Ltrain=[]
Lvalidation=[]
for i in range(0, maxIteration):
    y_predict1 = np.dot(W.transpose(),X_train.transpose())
    loss_train = y_predict1-y_train
    Ltrain.append(np.dot(loss_train,loss_train.transpose())/(2*m_train))
    y_predict2=np.dot(W.transpose(),X_test.transpose())
    loss_test= y_predict2-y_test
    Lvalidation.append(np.dot(loss_test.transpose(),loss_test)/(2*m_test))
    gradient = np.dot(X_train.transpose(), loss_train.transpose()) /m_train
    W = W - alpha * gradient
plt.plot(Iteration,Ltrain,'r',label='Ltrain') 
plt.plot(Iteration, Lvalidation,'b',label=' Lvalidation') 
plt.show()
