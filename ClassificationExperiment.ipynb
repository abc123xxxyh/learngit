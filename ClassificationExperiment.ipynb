{
 "cells": [
  {
   "cell_type": "code",
   "execution_count": 4,
   "metadata": {},
   "outputs": [
    {
     "data": {
      "image/png": "[encoded data removed]",
      "text/plain": [
       "<matplotlib.figure.Figure at 0xa671f28>"
      ]
     },
     "metadata": {},
     "output_type": "display_data"
    }
   ],
   "source": [
    "import numpy as np\n",
    "import matplotlib.pyplot as plt\n",
    "from sklearn.datasets import load_svmlight_file\n",
    "from sklearn.model_selection import train_test_split \n",
    "x,y = load_svmlight_file(\"F:/australian_scale.txt\")\n",
    "x=x.toarray()\n",
    "m, n = np.shape(x)\n",
    "a=np.ones(m)\n",
    "X=np.column_stack((x,a))\n",
    "X_train, X_test, y_train, y_test = train_test_split(X,y,test_size=0.33,random_state=42)\n",
    "m_train,n_train= np.shape(X_train)\n",
    "m_test,n_test= np.shape(X_test)\n",
    "w = np.zeros(n+1)\n",
    "W=w.transpose()\n",
    "alpha = 0.001\n",
    "maxIteration = 100\n",
    "Iteration=range(0,maxIteration)\n",
    "Ltrain=[]\n",
    "Lvalidation=[]\n",
    "for i in range(0, maxIteration):\n",
    "    ltrain=0\n",
    "    ltest=0\n",
    "    g=0\n",
    "    for j in range(m_train):\n",
    "        y_predict1= np.dot(W.transpose(),X_train[j].transpose())\n",
    "        y_predict11= np.dot(y_predict1,y_train[j])\n",
    "        ltrain+=max(0,1-y_predict11)\n",
    "    Ltrain.append(ltrain)\n",
    "    for j in range(m_test):\n",
    "        y_predict2=np.dot(W.transpose(),X_test[j].transpose())\n",
    "        y_predict22= np.dot(y_predict2,y_test[j])\n",
    "        ltest+=max(0,1-y_predict22)\n",
    "    Lvalidation.append(ltest)\n",
    "    for j in range(m_train):\n",
    "        y_predict111=np.dot(W.transpose(),X_train[j].transpose())\n",
    "        if np.dot(y_train[j],y_predict111)<=1:\n",
    "            g -= y_train[j]*X_train[j]\n",
    "    gradient=W+0.9*g;\n",
    "    W = W - alpha * gradient\n",
    "plt.plot(Iteration,Ltrain,'r',label='Ltrain') \n",
    "plt.plot(Iteration, Lvalidation,'b',label=' Lvalidation') \n",
    "plt.show()"
   ]
  }
 ],
 "metadata": {
  "kernelspec": {
   "display_name": "Python 3",
   "language": "python",
   "name": "python3"
  },
  "language_info": {
   "codemirror_mode": {
    "name": "ipython",
    "version": 3
   },
   "file_extension": ".py",
   "mimetype": "text/x-python",
   "name": "python",
   "nbconvert_exporter": "python",
   "pygments_lexer": "ipython3",
   "version": "3.6.3"
  }
 },
 "nbformat": 4,
 "nbformat_minor": 2
}
